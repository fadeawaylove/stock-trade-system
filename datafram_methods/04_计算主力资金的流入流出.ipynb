{
 "cells": [
  {
   "cell_type": "code",
   "execution_count": 5,
   "metadata": {},
   "outputs": [
    {
     "name": "stdout",
     "output_type": "stream",
     "text": [
      "Requirement already satisfied: tushare in /home/daigua/anaconda3/lib/python3.8/site-packages (1.2.62)\n",
      "Requirement already satisfied: simplejson>=3.16.0 in /home/daigua/anaconda3/lib/python3.8/site-packages (from tushare) (3.17.2)\n",
      "Requirement already satisfied: lxml>=3.8.0 in /home/daigua/anaconda3/lib/python3.8/site-packages (from tushare) (4.5.2)\n",
      "Requirement already satisfied: requests>=2.0.0 in /home/daigua/anaconda3/lib/python3.8/site-packages (from tushare) (2.24.0)\n",
      "Requirement already satisfied: websocket-client>=0.57.0 in /home/daigua/anaconda3/lib/python3.8/site-packages (from tushare) (0.57.0)\n",
      "Requirement already satisfied: bs4>=0.0.1 in /home/daigua/anaconda3/lib/python3.8/site-packages (from tushare) (0.0.1)\n",
      "Requirement already satisfied: chardet<4,>=3.0.2 in /home/daigua/anaconda3/lib/python3.8/site-packages (from requests>=2.0.0->tushare) (3.0.4)\n",
      "Requirement already satisfied: urllib3!=1.25.0,!=1.25.1,<1.26,>=1.21.1 in /home/daigua/anaconda3/lib/python3.8/site-packages (from requests>=2.0.0->tushare) (1.25.9)\n",
      "Requirement already satisfied: idna<3,>=2.5 in /home/daigua/anaconda3/lib/python3.8/site-packages (from requests>=2.0.0->tushare) (2.10)\n",
      "Requirement already satisfied: certifi>=2017.4.17 in /home/daigua/anaconda3/lib/python3.8/site-packages (from requests>=2.0.0->tushare) (2020.6.20)\n",
      "Requirement already satisfied: six in /home/daigua/anaconda3/lib/python3.8/site-packages (from websocket-client>=0.57.0->tushare) (1.15.0)\n",
      "Requirement already satisfied: beautifulsoup4 in /home/daigua/anaconda3/lib/python3.8/site-packages (from bs4>=0.0.1->tushare) (4.9.1)\n",
      "Requirement already satisfied: soupsieve>1.2 in /home/daigua/anaconda3/lib/python3.8/site-packages (from beautifulsoup4->bs4>=0.0.1->tushare) (2.0.1)\n"
     ]
    }
   ],
   "source": [
    "! pip install tushare"
   ]
  },
  {
   "cell_type": "code",
   "execution_count": 1,
   "metadata": {},
   "outputs": [],
   "source": [
    "# This allows multiple outputs from a single jupyter notebook cell:\n",
    "from IPython.core.interactiveshell import InteractiveShell\n",
    "InteractiveShell.ast_node_interactivity = \"all\""
   ]
  },
  {
   "cell_type": "code",
   "execution_count": 2,
   "metadata": {},
   "outputs": [],
   "source": [
    "# 导包\n",
    "import tushare as ts \n",
    "import pandas as pd\n",
    "import numpy as np\n",
    "import matplotlib.pyplot as plt\n",
    "import mplfinance as mpf"
   ]
  },
  {
   "cell_type": "code",
   "execution_count": 3,
   "metadata": {},
   "outputs": [
    {
     "data": {
      "text/html": [
       "<div>\n",
       "<style scoped>\n",
       "    .dataframe tbody tr th:only-of-type {\n",
       "        vertical-align: middle;\n",
       "    }\n",
       "\n",
       "    .dataframe tbody tr th {\n",
       "        vertical-align: top;\n",
       "    }\n",
       "\n",
       "    .dataframe thead th {\n",
       "        text-align: right;\n",
       "    }\n",
       "</style>\n",
       "<table border=\"1\" class=\"dataframe\">\n",
       "  <thead>\n",
       "    <tr style=\"text-align: right;\">\n",
       "      <th></th>\n",
       "      <th>time</th>\n",
       "      <th>price</th>\n",
       "      <th>change</th>\n",
       "      <th>volume</th>\n",
       "      <th>amount</th>\n",
       "      <th>type</th>\n",
       "    </tr>\n",
       "  </thead>\n",
       "  <tbody>\n",
       "    <tr>\n",
       "      <th>0</th>\n",
       "      <td>09:25:04</td>\n",
       "      <td>4.54</td>\n",
       "      <td>0.04</td>\n",
       "      <td>2564</td>\n",
       "      <td>1164056</td>\n",
       "      <td>卖盘</td>\n",
       "    </tr>\n",
       "    <tr>\n",
       "      <th>1</th>\n",
       "      <td>09:30:03</td>\n",
       "      <td>4.53</td>\n",
       "      <td>-0.01</td>\n",
       "      <td>213</td>\n",
       "      <td>96494</td>\n",
       "      <td>卖盘</td>\n",
       "    </tr>\n",
       "    <tr>\n",
       "      <th>2</th>\n",
       "      <td>09:30:06</td>\n",
       "      <td>4.52</td>\n",
       "      <td>-0.01</td>\n",
       "      <td>373</td>\n",
       "      <td>168920</td>\n",
       "      <td>卖盘</td>\n",
       "    </tr>\n",
       "    <tr>\n",
       "      <th>3</th>\n",
       "      <td>09:30:09</td>\n",
       "      <td>4.52</td>\n",
       "      <td>0.00</td>\n",
       "      <td>13</td>\n",
       "      <td>5888</td>\n",
       "      <td>卖盘</td>\n",
       "    </tr>\n",
       "    <tr>\n",
       "      <th>4</th>\n",
       "      <td>09:30:11</td>\n",
       "      <td>4.52</td>\n",
       "      <td>0.00</td>\n",
       "      <td>125</td>\n",
       "      <td>56505</td>\n",
       "      <td>卖盘</td>\n",
       "    </tr>\n",
       "  </tbody>\n",
       "</table>\n",
       "</div>"
      ],
      "text/plain": [
       "       time  price  change  volume   amount type\n",
       "0  09:25:04   4.54    0.04    2564  1164056   卖盘\n",
       "1  09:30:03   4.53   -0.01     213    96494   卖盘\n",
       "2  09:30:06   4.52   -0.01     373   168920   卖盘\n",
       "3  09:30:09   4.52    0.00      13     5888   卖盘\n",
       "4  09:30:11   4.52    0.00     125    56505   卖盘"
      ]
     },
     "execution_count": 3,
     "metadata": {},
     "output_type": "execute_result"
    }
   ],
   "source": [
    "# 获取数据\n",
    "tick_data = ts.get_tick_data(\"600313\",date=\"2020-10-28\", src='tt')\n",
    "tick_data.head()"
   ]
  },
  {
   "cell_type": "code",
   "execution_count": 4,
   "metadata": {},
   "outputs": [
    {
     "data": {
      "text/plain": [
       "63661508"
      ]
     },
     "execution_count": 4,
     "metadata": {},
     "output_type": "execute_result"
    }
   ],
   "source": [
    "# 当天成交额\n",
    "tick_data['amount'].sum() "
   ]
  },
  {
   "cell_type": "code",
   "execution_count": 5,
   "metadata": {},
   "outputs": [
    {
     "data": {
      "text/plain": [
       "type\n",
       "中性盘       37901\n",
       "买盘     24798205\n",
       "卖盘     38825402\n",
       "Name: amount, dtype: int64"
      ]
     },
     "execution_count": 5,
     "metadata": {},
     "output_type": "execute_result"
    }
   ],
   "source": [
    "# 分组展示\n",
    "tick_data['amount'].groupby(tick_data['type']).sum()"
   ]
  },
  {
   "cell_type": "code",
   "execution_count": 6,
   "metadata": {},
   "outputs": [
    {
     "data": {
      "text/plain": [
       "type\n",
       "买盘    11297914\n",
       "卖盘    18453695\n",
       "Name: amount, dtype: int64"
      ]
     },
     "execution_count": 6,
     "metadata": {},
     "output_type": "execute_result"
    }
   ],
   "source": [
    "# 设置成交量的交易额阈值，筛选出大单、中单、小单\n",
    "thread_hold = 100000\n",
    "tick_data[tick_data['amount']>thread_hold].amount.groupby(tick_data['type']).sum()"
   ]
  },
  {
   "cell_type": "code",
   "execution_count": 7,
   "metadata": {},
   "outputs": [],
   "source": [
    "# get_sina_dd接口获取大单交易数据（默认大小等于400手）这个接口似乎已经失效了\n",
    "data = ts.get_sina_dd('002372', date='2020-10-28')\n",
    "data"
   ]
  },
  {
   "cell_type": "code",
   "execution_count": 8,
   "metadata": {},
   "outputs": [
    {
     "data": {
      "text/html": [
       "<div>\n",
       "<style scoped>\n",
       "    .dataframe tbody tr th:only-of-type {\n",
       "        vertical-align: middle;\n",
       "    }\n",
       "\n",
       "    .dataframe tbody tr th {\n",
       "        vertical-align: top;\n",
       "    }\n",
       "\n",
       "    .dataframe thead th {\n",
       "        text-align: right;\n",
       "    }\n",
       "</style>\n",
       "<table border=\"1\" class=\"dataframe\">\n",
       "  <thead>\n",
       "    <tr style=\"text-align: right;\">\n",
       "      <th></th>\n",
       "      <th>Date</th>\n",
       "      <th>large_sell</th>\n",
       "      <th>large_buy</th>\n",
       "      <th>small_sell</th>\n",
       "      <th>small_buy</th>\n",
       "    </tr>\n",
       "  </thead>\n",
       "  <tbody>\n",
       "    <tr>\n",
       "      <th>0</th>\n",
       "      <td>2020-10-30 09:25:04</td>\n",
       "      <td>1164056.0</td>\n",
       "      <td>NaN</td>\n",
       "      <td>NaN</td>\n",
       "      <td>NaN</td>\n",
       "    </tr>\n",
       "    <tr>\n",
       "      <th>1</th>\n",
       "      <td>2020-10-30 09:30:03</td>\n",
       "      <td>NaN</td>\n",
       "      <td>NaN</td>\n",
       "      <td>96494.0</td>\n",
       "      <td>NaN</td>\n",
       "    </tr>\n",
       "    <tr>\n",
       "      <th>2</th>\n",
       "      <td>2020-10-30 09:30:06</td>\n",
       "      <td>NaN</td>\n",
       "      <td>NaN</td>\n",
       "      <td>168920.0</td>\n",
       "      <td>NaN</td>\n",
       "    </tr>\n",
       "    <tr>\n",
       "      <th>3</th>\n",
       "      <td>2020-10-30 09:30:09</td>\n",
       "      <td>NaN</td>\n",
       "      <td>NaN</td>\n",
       "      <td>5888.0</td>\n",
       "      <td>NaN</td>\n",
       "    </tr>\n",
       "    <tr>\n",
       "      <th>4</th>\n",
       "      <td>2020-10-30 09:30:11</td>\n",
       "      <td>NaN</td>\n",
       "      <td>NaN</td>\n",
       "      <td>56505.0</td>\n",
       "      <td>NaN</td>\n",
       "    </tr>\n",
       "    <tr>\n",
       "      <th>...</th>\n",
       "      <td>...</td>\n",
       "      <td>...</td>\n",
       "      <td>...</td>\n",
       "      <td>...</td>\n",
       "      <td>...</td>\n",
       "    </tr>\n",
       "    <tr>\n",
       "      <th>2300</th>\n",
       "      <td>2020-10-30 14:56:48</td>\n",
       "      <td>NaN</td>\n",
       "      <td>NaN</td>\n",
       "      <td>NaN</td>\n",
       "      <td>46725.0</td>\n",
       "    </tr>\n",
       "    <tr>\n",
       "      <th>2301</th>\n",
       "      <td>2020-10-30 14:56:54</td>\n",
       "      <td>NaN</td>\n",
       "      <td>NaN</td>\n",
       "      <td>NaN</td>\n",
       "      <td>8890.0</td>\n",
       "    </tr>\n",
       "    <tr>\n",
       "      <th>2302</th>\n",
       "      <td>2020-10-30 14:56:57</td>\n",
       "      <td>NaN</td>\n",
       "      <td>NaN</td>\n",
       "      <td>NaN</td>\n",
       "      <td>8010.0</td>\n",
       "    </tr>\n",
       "    <tr>\n",
       "      <th>2303</th>\n",
       "      <td>2020-10-30 14:57:01</td>\n",
       "      <td>NaN</td>\n",
       "      <td>NaN</td>\n",
       "      <td>20441.0</td>\n",
       "      <td>NaN</td>\n",
       "    </tr>\n",
       "    <tr>\n",
       "      <th>2304</th>\n",
       "      <td>2020-10-30 15:00:04</td>\n",
       "      <td>981240.0</td>\n",
       "      <td>NaN</td>\n",
       "      <td>NaN</td>\n",
       "      <td>NaN</td>\n",
       "    </tr>\n",
       "  </tbody>\n",
       "</table>\n",
       "<p>2305 rows × 5 columns</p>\n",
       "</div>"
      ],
      "text/plain": [
       "                    Date  large_sell  large_buy  small_sell  small_buy\n",
       "0    2020-10-30 09:25:04   1164056.0        NaN         NaN        NaN\n",
       "1    2020-10-30 09:30:03         NaN        NaN     96494.0        NaN\n",
       "2    2020-10-30 09:30:06         NaN        NaN    168920.0        NaN\n",
       "3    2020-10-30 09:30:09         NaN        NaN      5888.0        NaN\n",
       "4    2020-10-30 09:30:11         NaN        NaN     56505.0        NaN\n",
       "...                  ...         ...        ...         ...        ...\n",
       "2300 2020-10-30 14:56:48         NaN        NaN         NaN    46725.0\n",
       "2301 2020-10-30 14:56:54         NaN        NaN         NaN     8890.0\n",
       "2302 2020-10-30 14:56:57         NaN        NaN         NaN     8010.0\n",
       "2303 2020-10-30 14:57:01         NaN        NaN     20441.0        NaN\n",
       "2304 2020-10-30 15:00:04    981240.0        NaN         NaN        NaN\n",
       "\n",
       "[2305 rows x 5 columns]"
      ]
     },
     "execution_count": 8,
     "metadata": {},
     "output_type": "execute_result"
    }
   ],
   "source": [
    "# 筛选出各种单信息\n",
    "order_dict = {\n",
    "    'Date': pd.to_datetime(tick_data.time),\n",
    "    'large_sell': tick_data.apply(lambda x: x.amount if x.type=='卖盘' and x.amount > 50_0000 else np.NaN, axis=1),\n",
    "    'large_buy': tick_data.apply(lambda x: x.amount if x.type=='买盘' and x.amount > 50_0000 else np.NaN, axis=1),\n",
    "    'small_sell': tick_data.apply(lambda x: x.amount if x.type=='卖盘' and x.amount <= 50_0000 else np.NaN, axis=1),\n",
    "    'small_buy': tick_data.apply(lambda x: x.amount if x.type=='买盘' and x.amount <= 50_0000 else np.NaN, axis=1),\n",
    "    }\n",
    "order_df = pd.DataFrame(order_dict)\n",
    "order_df"
   ]
  },
  {
   "cell_type": "code",
   "execution_count": 9,
   "metadata": {},
   "outputs": [
    {
     "data": {
      "text/plain": [
       "[<matplotlib.lines.Line2D at 0x21695e39370>]"
      ]
     },
     "execution_count": 9,
     "metadata": {},
     "output_type": "execute_result"
    },
    {
     "data": {
      "text/plain": [
       "[<matplotlib.lines.Line2D at 0x21695deaca0>]"
      ]
     },
     "execution_count": 9,
     "metadata": {},
     "output_type": "execute_result"
    },
    {
     "data": {
      "text/plain": [
       "[<matplotlib.lines.Line2D at 0x21695deafa0>]"
      ]
     },
     "execution_count": 9,
     "metadata": {},
     "output_type": "execute_result"
    },
    {
     "data": {
      "text/plain": [
       "[<matplotlib.lines.Line2D at 0x21695e0e2b0>]"
      ]
     },
     "execution_count": 9,
     "metadata": {},
     "output_type": "execute_result"
    },
    {
     "data": {
      "text/plain": [
       "(0.0, 600000.0)"
      ]
     },
     "execution_count": 9,
     "metadata": {},
     "output_type": "execute_result"
    },
    {
     "data": {
      "text/plain": [
       "Text(0.5, 0, 'Date')"
      ]
     },
     "execution_count": 9,
     "metadata": {},
     "output_type": "execute_result"
    },
    {
     "data": {
      "text/plain": [
       "Text(0, 0.5, 'amount')"
      ]
     },
     "execution_count": 9,
     "metadata": {},
     "output_type": "execute_result"
    },
    {
     "data": {
      "text/plain": [
       "<matplotlib.legend.Legend at 0x21695dea880>"
      ]
     },
     "execution_count": 9,
     "metadata": {},
     "output_type": "execute_result"
    },
    {
     "data": {
      "text/plain": [
       "Text(0.5, 1.0, 'money in and out')"
      ]
     },
     "execution_count": 9,
     "metadata": {},
     "output_type": "execute_result"
    },
    {
     "data": {
      "text/plain": [
       "[]"
      ]
     },
     "execution_count": 9,
     "metadata": {},
     "output_type": "execute_result"
    },
    {
     "data": {
      "image/png": "[encoded data removed]",
      "text/plain": [
       "<Figure size 432x288 with 1 Axes>"
      ]
     },
     "metadata": {
      "needs_background": "light"
     },
     "output_type": "display_data"
    }
   ],
   "source": [
    "# 画图\n",
    "fig, ax = plt.subplots()  # 创建图形（画布）和坐标轴\n",
    "ax.plot(order_df.Date, order_df.large_sell, label='big sell')\n",
    "ax.plot(order_df.Date, order_df.large_buy, label='big buy')\n",
    "ax.plot(order_df.Date, order_df.small_sell, linestyle='-',label='small sell')\n",
    "ax.plot(order_df.Date, order_df.small_buy, label='small buy')\n",
    "ax.set_ylim(0,600_000)\n",
    "ax.set_xlabel(\"Date\")\n",
    "ax.set_ylabel(\"amount\")\n",
    "ax.legend()\n",
    "ax.set_title(\"money in and out\")\n",
    "\n",
    "plt.plot()\n",
    "plt.show()"
   ]
  },
  {
   "cell_type": "markdown",
   "metadata": {},
   "source": [
    "## 根据大单可以找到主力资金动向，从而作为下一步操作的指导"
   ]
  },
  {
   "cell_type": "code",
   "execution_count": null,
   "metadata": {},
   "outputs": [],
   "source": []
  }
 ],
 "metadata": {
  "kernelspec": {
   "display_name": "Python 3",
   "language": "python",
   "name": "python3"
  },
  "language_info": {
   "codemirror_mode": {
    "name": "ipython",
    "version": 3
   },
   "file_extension": ".py",
   "mimetype": "text/x-python",
   "name": "python",
   "nbconvert_exporter": "python",
   "pygments_lexer": "ipython3",
   "version": "3.8.0"
  }
 },
 "nbformat": 4,
 "nbformat_minor": 4
}
