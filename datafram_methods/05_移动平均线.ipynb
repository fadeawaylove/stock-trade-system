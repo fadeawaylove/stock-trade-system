{
 "cells": [
  {
   "cell_type": "code",
   "execution_count": 1,
   "metadata": {},
   "outputs": [],
   "source": [
    "# This allows multiple outputs from a single jupyter notebook cell:\n",
    "from IPython.core.interactiveshell import InteractiveShell\n",
    "InteractiveShell.ast_node_interactivity = \"all\""
   ]
  },
  {
   "cell_type": "code",
   "execution_count": 5,
   "metadata": {},
   "outputs": [
    {
     "name": "stdout",
     "output_type": "stream",
     "text": [
      "Collecting pandas_datareader\n",
      "  Downloading https://files.pythonhosted.org/packages/22/f1/a02eea03628865c3d4c29849cda8c8a73f43358048aee47d79dfbfa6c6c3/pandas_datareader-0.9.0-py3-none-any.whl (107kB)\n",
      "Requirement already satisfied, skipping upgrade: requests>=2.19.0 in d:\\code\\stock-trade-system\\.env\\lib\\site-packages (from pandas_datareader) (2.24.0)\n",
      "Requirement already satisfied, skipping upgrade: lxml in d:\\code\\stock-trade-system\\.env\\lib\\site-packages (from pandas_datareader) (4.6.1)\n",
      "Requirement already satisfied, skipping upgrade: pandas>=0.23 in d:\\code\\stock-trade-system\\.env\\lib\\site-packages (from pandas_datareader) (1.1.3)\n",
      "Requirement already satisfied, skipping upgrade: idna<3,>=2.5 in d:\\code\\stock-trade-system\\.env\\lib\\site-packages (from requests>=2.19.0->pandas_datareader) (2.10)\n",
      "Requirement already satisfied, skipping upgrade: chardet<4,>=3.0.2 in d:\\code\\stock-trade-system\\.env\\lib\\site-packages (from requests>=2.19.0->pandas_datareader) (3.0.4)\n",
      "Requirement already satisfied, skipping upgrade: urllib3!=1.25.0,!=1.25.1,<1.26,>=1.21.1 in d:\\code\\stock-trade-system\\.env\\lib\\site-packages (from requests>=2.19.0->pandas_datareader) (1.25.11)\n",
      "Requirement already satisfied, skipping upgrade: certifi>=2017.4.17 in d:\\code\\stock-trade-system\\.env\\lib\\site-packages (from requests>=2.19.0->pandas_datareader) (2020.6.20)\n",
      "Requirement already satisfied, skipping upgrade: python-dateutil>=2.7.3 in d:\\code\\stock-trade-system\\.env\\lib\\site-packages (from pandas>=0.23->pandas_datareader) (2.8.1)\n",
      "Requirement already satisfied, skipping upgrade: numpy>=1.15.4 in d:\\code\\stock-trade-system\\.env\\lib\\site-packages (from pandas>=0.23->pandas_datareader) (1.19.2)\n",
      "Requirement already satisfied, skipping upgrade: pytz>=2017.2 in d:\\code\\stock-trade-system\\.env\\lib\\site-packages (from pandas>=0.23->pandas_datareader) (2020.1)\n",
      "Requirement already satisfied, skipping upgrade: six>=1.5 in d:\\code\\stock-trade-system\\.env\\lib\\site-packages (from python-dateutil>=2.7.3->pandas>=0.23->pandas_datareader) (1.15.0)\n",
      "Installing collected packages: pandas-datareader\n",
      "  Found existing installation: pandas-datareader 0.7.0\n",
      "    Uninstalling pandas-datareader-0.7.0:\n",
      "      Successfully uninstalled pandas-datareader-0.7.0\n",
      "Successfully installed pandas-datareader-0.9.0\n"
     ]
    },
    {
     "name": "stderr",
     "output_type": "stream",
     "text": [
      "WARNING: You are using pip version 19.2.3, however version 20.2.4 is available.\n",
      "You should consider upgrading via the 'python -m pip install --upgrade pip' command.\n"
     ]
    }
   ],
   "source": [
    "! pip install -U pandas_datareader"
   ]
  },
  {
   "cell_type": "code",
   "execution_count": 36,
   "metadata": {},
   "outputs": [],
   "source": [
    "import pandas as pd\n",
    "import mplfinance as mpf\n",
    "import numpy as np\n",
    "import pandas_datareader.data as web\n",
    "import talib\n",
    "import datetime"
   ]
  },
  {
   "cell_type": "code",
   "execution_count": 37,
   "metadata": {},
   "outputs": [
    {
     "data": {
      "text/html": [
       "<div>\n",
       "<style scoped>\n",
       "    .dataframe tbody tr th:only-of-type {\n",
       "        vertical-align: middle;\n",
       "    }\n",
       "\n",
       "    .dataframe tbody tr th {\n",
       "        vertical-align: top;\n",
       "    }\n",
       "\n",
       "    .dataframe thead th {\n",
       "        text-align: right;\n",
       "    }\n",
       "</style>\n",
       "<table border=\"1\" class=\"dataframe\">\n",
       "  <thead>\n",
       "    <tr style=\"text-align: right;\">\n",
       "      <th></th>\n",
       "      <th>High</th>\n",
       "      <th>Low</th>\n",
       "      <th>Open</th>\n",
       "      <th>Close</th>\n",
       "      <th>Volume</th>\n",
       "      <th>Adj Close</th>\n",
       "    </tr>\n",
       "    <tr>\n",
       "      <th>Date</th>\n",
       "      <th></th>\n",
       "      <th></th>\n",
       "      <th></th>\n",
       "      <th></th>\n",
       "      <th></th>\n",
       "      <th></th>\n",
       "    </tr>\n",
       "  </thead>\n",
       "  <tbody>\n",
       "    <tr>\n",
       "      <th>2018-01-02</th>\n",
       "      <td>11.93</td>\n",
       "      <td>11.75</td>\n",
       "      <td>11.83</td>\n",
       "      <td>11.87</td>\n",
       "      <td>9507327.0</td>\n",
       "      <td>11.733099</td>\n",
       "    </tr>\n",
       "    <tr>\n",
       "      <th>2018-01-03</th>\n",
       "      <td>12.26</td>\n",
       "      <td>11.81</td>\n",
       "      <td>11.81</td>\n",
       "      <td>12.17</td>\n",
       "      <td>16068391.0</td>\n",
       "      <td>12.029640</td>\n",
       "    </tr>\n",
       "    <tr>\n",
       "      <th>2018-01-04</th>\n",
       "      <td>12.18</td>\n",
       "      <td>12.01</td>\n",
       "      <td>12.06</td>\n",
       "      <td>12.09</td>\n",
       "      <td>10067364.0</td>\n",
       "      <td>11.950562</td>\n",
       "    </tr>\n",
       "    <tr>\n",
       "      <th>2018-01-05</th>\n",
       "      <td>12.38</td>\n",
       "      <td>12.03</td>\n",
       "      <td>12.16</td>\n",
       "      <td>12.04</td>\n",
       "      <td>12695730.0</td>\n",
       "      <td>11.901140</td>\n",
       "    </tr>\n",
       "    <tr>\n",
       "      <th>2018-01-08</th>\n",
       "      <td>12.55</td>\n",
       "      <td>11.70</td>\n",
       "      <td>11.96</td>\n",
       "      <td>12.32</td>\n",
       "      <td>21512391.0</td>\n",
       "      <td>12.177910</td>\n",
       "    </tr>\n",
       "  </tbody>\n",
       "</table>\n",
       "</div>"
      ],
      "text/plain": [
       "             High    Low   Open  Close      Volume  Adj Close\n",
       "Date                                                         \n",
       "2018-01-02  11.93  11.75  11.83  11.87   9507327.0  11.733099\n",
       "2018-01-03  12.26  11.81  11.81  12.17  16068391.0  12.029640\n",
       "2018-01-04  12.18  12.01  12.06  12.09  10067364.0  11.950562\n",
       "2018-01-05  12.38  12.03  12.16  12.04  12695730.0  11.901140\n",
       "2018-01-08  12.55  11.70  11.96  12.32  21512391.0  12.177910"
      ]
     },
     "execution_count": 37,
     "metadata": {},
     "output_type": "execute_result"
    }
   ],
   "source": [
    "data = web.DataReader(\"600797.SS\", \"yahoo\", datetime.datetime(2018,1,1), datetime.datetime(2019,1,1))\n",
    "data.head()"
   ]
  },
  {
   "cell_type": "markdown",
   "metadata": {},
   "source": [
    "### MACD\n",
    "MACD称为异同移动平均线，属于趋势类指标，由快速线DIF、慢速线DEA组成。在股票行情显示界面中，DIF和DEA是以零轴为中心轴，上下交叉移动的两条线，红绿柱状图BAR为辅助显示的指标。MACD计算方法如下所示：\n",
    "\n",
    "DIF（差离值） = EMA（12日收盘价移动平均线）- EMA（26日收盘价移动平均线）\n",
    "\n",
    "DEA（差离平均值） = DIF的9日移动平均线\n",
    "\n",
    "BAR（柱状值） = 2 ×（DIF-DEA）\n",
    "\n",
    "MACD本质上以短期移动平均线与长期移动平均线之间的聚合与分离状况（±DIF值）来对行情趋势判断，DEA则是对DIF值进行N日移动平滑用于辅助观察变化。理论上，在持续加速的涨势中，短期EMA线在长期EMA线之上，其间的正离差值(+DIF)会越来越大，DIF距离DEA也会变大，BAR柱状线也会扩展；反之，在加速跌势中负离差值(-DIF)会越来越小。当行情即将反转时，DIF与DEA距离会逐渐减小，也就是指标出现背离的情形，对应于股价可体现为第二轮上涨/下跌虽然超越了第一轮股价的高点/低点，但第二轮运行的动能比第一轮降低了，预示着趋势已经是强弩之末的态势了。\n",
    "\n",
    "### KDJ\n",
    "KDJ是最为常用的震荡类指标。在介绍KDJ指标之前，先介绍下拉里·威廉斯（Larry Williams）提出的威廉指标（Williams %R，简称W%R）。威廉指标的计算首先选定一个特定的时间跨度（比如14日），然后找出这一特定区间的最高价和最低价，构成一个价格变化区间，而后分析这一时间跨度最后一个时间点的收盘价与期间最高价和最低价的相对位置，以此来衡量市场的超买或超卖现象。\n",
    "\n",
    "KDJ指标的最早雏形是由芝加哥期货交易商George Lane提出的KD指标，该指标又被称为随机震荡指标（Stochastic Oscillator Indicator）。从最基础的交易思想上看，KD指标的分析思想与威廉指标类似，均使用特定时间跨度中的最后收盘价与该时间跨度内的最高价和最低价的相对位置来推测市场的超买和超卖情况。与威廉指标不同的是，随机震荡指标在收盘价与最高价和最低价的相对位置的比值上，又融合了移动平均的思想，用更多的信息来捕捉市场的超买、超卖现象。KDJ指标则是在随机震荡指标K线和D线的基础上增加了一条J线，进一步提高了随机震荡指标对市场买卖信号捕捉的准确度。"
   ]
  },
  {
   "cell_type": "code",
   "execution_count": 61,
   "metadata": {},
   "outputs": [
    {
     "ename": "KeyError",
     "evalue": "'Unrecognized kwarg=\"style\"'",
     "output_type": "error",
     "traceback": [
      "\u001b[1;31m---------------------------------------------------------------------------\u001b[0m",
      "\u001b[1;31mKeyError\u001b[0m                                  Traceback (most recent call last)",
      "\u001b[1;32m<ipython-input-61-292f5a639e79>\u001b[0m in \u001b[0;36m<module>\u001b[1;34m\u001b[0m\n\u001b[0;32m     14\u001b[0m     \u001b[0mmpf\u001b[0m\u001b[1;33m.\u001b[0m\u001b[0mmake_addplot\u001b[0m\u001b[1;33m(\u001b[0m\u001b[0mmacd_dif\u001b[0m\u001b[1;33m,\u001b[0m \u001b[0mpanel\u001b[0m\u001b[1;33m=\u001b[0m\u001b[1;36m2\u001b[0m\u001b[1;33m)\u001b[0m\u001b[1;33m,\u001b[0m\u001b[1;33m\u001b[0m\u001b[1;33m\u001b[0m\u001b[0m\n\u001b[0;32m     15\u001b[0m     \u001b[0mmpf\u001b[0m\u001b[1;33m.\u001b[0m\u001b[0mmake_addplot\u001b[0m\u001b[1;33m(\u001b[0m\u001b[0mk\u001b[0m\u001b[1;33m,\u001b[0m \u001b[0mpanel\u001b[0m\u001b[1;33m=\u001b[0m\u001b[1;36m3\u001b[0m\u001b[1;33m)\u001b[0m\u001b[1;33m,\u001b[0m\u001b[1;33m\u001b[0m\u001b[1;33m\u001b[0m\u001b[0m\n\u001b[1;32m---> 16\u001b[1;33m     \u001b[0mmpf\u001b[0m\u001b[1;33m.\u001b[0m\u001b[0mmake_addplot\u001b[0m\u001b[1;33m(\u001b[0m\u001b[0md\u001b[0m\u001b[1;33m,\u001b[0m \u001b[0mpanel\u001b[0m\u001b[1;33m=\u001b[0m\u001b[1;36m3\u001b[0m\u001b[1;33m,\u001b[0m \u001b[0mstyle\u001b[0m\u001b[1;33m=\u001b[0m\u001b[1;34m\"dotted\"\u001b[0m\u001b[1;33m)\u001b[0m\u001b[1;33m,\u001b[0m\u001b[1;33m\u001b[0m\u001b[1;33m\u001b[0m\u001b[0m\n\u001b[0m\u001b[0;32m     17\u001b[0m     \u001b[0mmpf\u001b[0m\u001b[1;33m.\u001b[0m\u001b[0mmake_addplot\u001b[0m\u001b[1;33m(\u001b[0m\u001b[0mj\u001b[0m\u001b[1;33m,\u001b[0m \u001b[0mpanel\u001b[0m\u001b[1;33m=\u001b[0m\u001b[1;36m3\u001b[0m\u001b[1;33m)\u001b[0m\u001b[1;33m,\u001b[0m\u001b[1;33m\u001b[0m\u001b[1;33m\u001b[0m\u001b[0m\n\u001b[0;32m     18\u001b[0m \u001b[1;33m\u001b[0m\u001b[0m\n",
      "\u001b[1;32md:\\code\\stock-trade-system\\.env\\lib\\site-packages\\mplfinance\\plotting.py\u001b[0m in \u001b[0;36mmake_addplot\u001b[1;34m(data, **kwargs)\u001b[0m\n\u001b[0;32m    945\u001b[0m         \u001b[1;32mraise\u001b[0m \u001b[0mTypeError\u001b[0m\u001b[1;33m(\u001b[0m\u001b[1;34m'Wrong type for data, in make_addplot()'\u001b[0m\u001b[1;33m)\u001b[0m\u001b[1;33m\u001b[0m\u001b[1;33m\u001b[0m\u001b[0m\n\u001b[0;32m    946\u001b[0m \u001b[1;33m\u001b[0m\u001b[0m\n\u001b[1;32m--> 947\u001b[1;33m     \u001b[0mconfig\u001b[0m \u001b[1;33m=\u001b[0m \u001b[0m_process_kwargs\u001b[0m\u001b[1;33m(\u001b[0m\u001b[0mkwargs\u001b[0m\u001b[1;33m,\u001b[0m \u001b[0m_valid_addplot_kwargs\u001b[0m\u001b[1;33m(\u001b[0m\u001b[1;33m)\u001b[0m\u001b[1;33m)\u001b[0m\u001b[1;33m\u001b[0m\u001b[1;33m\u001b[0m\u001b[0m\n\u001b[0m\u001b[0;32m    948\u001b[0m \u001b[1;33m\u001b[0m\u001b[0m\n\u001b[0;32m    949\u001b[0m     \u001b[1;31m# kwarg `type` replaces kwarg `scatter`\u001b[0m\u001b[1;33m\u001b[0m\u001b[1;33m\u001b[0m\u001b[1;33m\u001b[0m\u001b[0m\n",
      "\u001b[1;32md:\\code\\stock-trade-system\\.env\\lib\\site-packages\\mplfinance\\_arg_validators.py\u001b[0m in \u001b[0;36m_process_kwargs\u001b[1;34m(kwargs, vkwargs)\u001b[0m\n\u001b[0;32m    230\u001b[0m     \u001b[1;32mfor\u001b[0m \u001b[0mkey\u001b[0m \u001b[1;32min\u001b[0m \u001b[0mkwargs\u001b[0m\u001b[1;33m.\u001b[0m\u001b[0mkeys\u001b[0m\u001b[1;33m(\u001b[0m\u001b[1;33m)\u001b[0m\u001b[1;33m:\u001b[0m\u001b[1;33m\u001b[0m\u001b[1;33m\u001b[0m\u001b[0m\n\u001b[0;32m    231\u001b[0m         \u001b[1;32mif\u001b[0m \u001b[0mkey\u001b[0m \u001b[1;32mnot\u001b[0m \u001b[1;32min\u001b[0m \u001b[0mvkwargs\u001b[0m\u001b[1;33m:\u001b[0m\u001b[1;33m\u001b[0m\u001b[1;33m\u001b[0m\u001b[0m\n\u001b[1;32m--> 232\u001b[1;33m             \u001b[1;32mraise\u001b[0m \u001b[0mKeyError\u001b[0m\u001b[1;33m(\u001b[0m\u001b[1;34m'Unrecognized kwarg=\"'\u001b[0m\u001b[1;33m+\u001b[0m\u001b[0mstr\u001b[0m\u001b[1;33m(\u001b[0m\u001b[0mkey\u001b[0m\u001b[1;33m)\u001b[0m\u001b[1;33m+\u001b[0m\u001b[1;34m'\"'\u001b[0m\u001b[1;33m)\u001b[0m\u001b[1;33m\u001b[0m\u001b[1;33m\u001b[0m\u001b[0m\n\u001b[0m\u001b[0;32m    233\u001b[0m         \u001b[1;32melse\u001b[0m\u001b[1;33m:\u001b[0m\u001b[1;33m\u001b[0m\u001b[1;33m\u001b[0m\u001b[0m\n\u001b[0;32m    234\u001b[0m             \u001b[0mvalue\u001b[0m \u001b[1;33m=\u001b[0m \u001b[0mkwargs\u001b[0m\u001b[1;33m[\u001b[0m\u001b[0mkey\u001b[0m\u001b[1;33m]\u001b[0m\u001b[1;33m\u001b[0m\u001b[1;33m\u001b[0m\u001b[0m\n",
      "\u001b[1;31mKeyError\u001b[0m: 'Unrecognized kwarg=\"style\"'"
     ]
    }
   ],
   "source": [
    "# macd\n",
    "macd_dif, macd_dea, macd_bar  = talib.MACD(data.Close.values, fastperiod=12, slowperiod=26, signalperiod=9)\n",
    "\n",
    "# kdj\n",
    "k,d = talib.STOCH(data.High.values, data.Low.values, data.Close.values,\\\n",
    "                                       fastk_period=9, slowk_period=3, slowk_matype=0, slowd_period=3, slowd_matype=0)\n",
    "\n",
    "j = 3 * k - 2 * d\n",
    "\n",
    "addplot = [\n",
    "    # macd\n",
    "    mpf.make_addplot(macd_bar,type='bar', panel=2),\n",
    "    mpf.make_addplot(macd_dea, panel=2),\n",
    "    mpf.make_addplot(macd_dif, panel=2),\n",
    "    mpf.make_addplot(k, panel=3),\n",
    "    mpf.make_addplot(d, panel=3,),\n",
    "    mpf.make_addplot(j, panel=3),\n",
    "    \n",
    "    \n",
    "]\n",
    "\n",
    "\n",
    "mc = mpf.make_marketcolors(up='red', down='g',volume={'up': 'red', 'down': 'green'})\n",
    "s = mpf.make_mpf_style(marketcolors=mc)\n",
    "fig, axe = mpf.plot(data, title=\"600797 day_k\",mav=(20,30,60),type='candle',volume=True, returnfig=True,figscale=1.5, style=s, datetime_format='%Y-%m-%d',\n",
    "                   tight_layout=True, addplot=addplot)\n",
    "axe[0].legend([\"M20\", \"M30\", \"M60\"])\n",
    "axe[5].legend([\"M20\", \"M30\"])\n",
    "\n"
   ]
  },
  {
   "cell_type": "code",
   "execution_count": null,
   "metadata": {},
   "outputs": [],
   "source": []
  }
 ],
 "metadata": {
  "kernelspec": {
   "display_name": "Python 3",
   "language": "python",
   "name": "python3"
  },
  "language_info": {
   "codemirror_mode": {
    "name": "ipython",
    "version": 3
   },
   "file_extension": ".py",
   "mimetype": "text/x-python",
   "name": "python",
   "nbconvert_exporter": "python",
   "pygments_lexer": "ipython3",
   "version": "3.8.0"
  }
 },
 "nbformat": 4,
 "nbformat_minor": 4
}
