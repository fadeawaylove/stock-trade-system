{
 "cells": [
  {
   "cell_type": "code",
   "execution_count": 18,
   "metadata": {},
   "outputs": [
    {
     "name": "stdout",
     "output_type": "stream",
     "text": [
      "                   High          Low         Open        Close  Volume  \\\n",
      "Date                                                                     \n",
      "2018-01-02  3349.052979  3314.031006  3314.031006  3348.325928  202300   \n",
      "2018-01-03  3379.915039  3345.289062  3347.742920  3369.107910  213800   \n",
      "2018-01-04  3392.825928  3365.294922  3371.000000  3385.709961  207000   \n",
      "2018-01-05  3402.069092  3380.245117  3386.464111  3391.750000  213100   \n",
      "2018-01-08  3412.730957  3384.559082  3391.552979  3409.479980  236200   \n",
      "2018-01-09  3417.228027  3403.586914  3406.112061  3413.899902  191500   \n",
      "2018-01-10  3430.214111  3398.842041  3414.113037  3421.833984  209100   \n",
      "2018-01-11  3426.482910  3405.638916  3415.584961  3425.344971  173800   \n",
      "2018-01-12  3435.424072  3417.979980  3423.878906  3428.940918  174100   \n",
      "2018-01-15  3442.500977  3402.312012  3428.950928  3410.488037  232000   \n",
      "\n",
      "              Adj Close  \n",
      "Date                     \n",
      "2018-01-02  3348.325928  \n",
      "2018-01-03  3369.107910  \n",
      "2018-01-04  3385.709961  \n",
      "2018-01-05  3391.750000  \n",
      "2018-01-08  3409.479980  \n",
      "2018-01-09  3413.899902  \n",
      "2018-01-10  3421.833984  \n",
      "2018-01-11  3425.344971  \n",
      "2018-01-12  3428.940918  \n",
      "2018-01-15  3410.488037  \n"
     ]
    }
   ],
   "source": [
    "# 导包\n",
    "import datetime\n",
    "import pandas_datareader.data as web\n",
    "import pandas as pd\n",
    "import numpy as np\n",
    "\n",
    "# 获取数据\n",
    "df_stockload = web.DataReader(\"000001.SS\", \"yahoo\", datetime.datetime(2018, 1, 1), datetime.datetime(2019, 1, 1))\n",
    "print(df_stockload.head(10))"
   ]
  },
  {
   "cell_type": "markdown",
   "metadata": {},
   "source": [
    "### 计算M20移动平均线\n"
   ]
  },
  {
   "cell_type": "code",
   "execution_count": 19,
   "metadata": {},
   "outputs": [
    {
     "name": "stdout",
     "output_type": "stream",
     "text": [
      "                   High          Low         Open        Close  Volume  \\\n",
      "Date                                                                     \n",
      "2018-01-02  3349.052979  3314.031006  3314.031006  3348.325928  202300   \n",
      "2018-01-03  3379.915039  3345.289062  3347.742920  3369.107910  213800   \n",
      "2018-01-04  3392.825928  3365.294922  3371.000000  3385.709961  207000   \n",
      "2018-01-05  3402.069092  3380.245117  3386.464111  3391.750000  213100   \n",
      "2018-01-08  3412.730957  3384.559082  3391.552979  3409.479980  236200   \n",
      "\n",
      "              Adj Close  Ma20  \n",
      "Date                           \n",
      "2018-01-02  3348.325928   NaN  \n",
      "2018-01-03  3369.107910   NaN  \n",
      "2018-01-04  3385.709961   NaN  \n",
      "2018-01-05  3391.750000   NaN  \n",
      "2018-01-08  3409.479980   NaN  \n",
      "                   High          Low         Open        Close  Volume  \\\n",
      "Date                                                                     \n",
      "2018-12-24  2529.439941  2500.443115  2506.737061  2527.007080   97300   \n",
      "2018-12-25  2513.964111  2462.844971  2503.949951  2504.819092  136500   \n",
      "2018-12-26  2513.825928  2492.075928  2501.120117  2498.293945  108800   \n",
      "2018-12-27  2532.001953  2483.085938  2527.717041  2483.085938  135400   \n",
      "2018-12-28  2505.114014  2478.324951  2483.616943  2493.895996  119200   \n",
      "\n",
      "              Adj Close         Ma20  \n",
      "Date                                  \n",
      "2018-12-24  2527.007080  2591.300159  \n",
      "2018-12-25  2504.819092  2587.807166  \n",
      "2018-12-26  2498.293945  2582.635010  \n",
      "2018-12-27  2483.085938  2578.417151  \n",
      "2018-12-28  2493.895996  2573.702551  \n"
     ]
    }
   ],
   "source": [
    "df_stockload[\"Ma20\"] = df_stockload.Close.rolling(window=20).mean()\n",
    "print(df_stockload.head())\n",
    "print(df_stockload.tail())"
   ]
  },
  {
   "cell_type": "markdown",
   "metadata": {},
   "source": [
    "#### 去掉NaN\n"
   ]
  },
  {
   "cell_type": "code",
   "execution_count": 20,
   "metadata": {},
   "outputs": [
    {
     "name": "stdout",
     "output_type": "stream",
     "text": [
      "                   High          Low         Open        Close  Volume  \\\n",
      "Date                                                                     \n",
      "2018-01-29  3587.031982  3510.269043  3563.639893  3523.000977  236000   \n",
      "2018-01-30  3523.051025  3484.656006  3511.500977  3488.009033  186400   \n",
      "2018-01-31  3495.452881  3454.726074  3470.509033  3480.833008  207300   \n",
      "2018-02-01  3495.093018  3424.418945  3478.669922  3446.979980  260500   \n",
      "2018-02-02  3463.164062  3388.860107  3419.225098  3462.081055  208100   \n",
      "\n",
      "              Adj Close         Ma20  \n",
      "Date                                  \n",
      "2018-01-29  3523.000977  3454.276660  \n",
      "2018-01-30  3488.009033  3461.260815  \n",
      "2018-01-31  3480.833008  3466.847070  \n",
      "2018-02-01  3446.979980  3469.910571  \n",
      "2018-02-02  3462.081055  3473.427124  \n"
     ]
    }
   ],
   "source": [
    "df_stockload.dropna(axis=0, how='any', inplace=True)\n",
    "print(df_stockload.head())"
   ]
  },
  {
   "cell_type": "markdown",
   "metadata": {},
   "source": [
    "### for...in循环方式\n",
    "我们遍历全部交易日的收盘价数值和Ma20数值，将收盘价数值减去Ma20数值，并使用np.sign()取差值符号，当收盘价在Ma20上方时差值为正，收盘价在Ma20上下方时差值为负，由负转正对应为买点，由正转负对应为卖点。如下所示："
   ]
  },
  {
   "cell_type": "code",
   "execution_count": 21,
   "metadata": {},
   "outputs": [
    {
     "name": "stdout",
     "output_type": "stream",
     "text": [
      "                   High          Low         Open        Close  Volume  \\\n",
      "Date                                                                     \n",
      "2018-01-29  3587.031982  3510.269043  3563.639893  3523.000977  236000   \n",
      "2018-01-30  3523.051025  3484.656006  3511.500977  3488.009033  186400   \n",
      "2018-01-31  3495.452881  3454.726074  3470.509033  3480.833008  207300   \n",
      "2018-02-01  3495.093018  3424.418945  3478.669922  3446.979980  260500   \n",
      "2018-02-02  3463.164062  3388.860107  3419.225098  3462.081055  208100   \n",
      "\n",
      "              Adj Close         Ma20  signal  \n",
      "Date                                          \n",
      "2018-01-29  3523.000977  3454.276660     1.0  \n",
      "2018-01-30  3488.009033  3461.260815     1.0  \n",
      "2018-01-31  3480.833008  3466.847070     1.0  \n",
      "2018-02-01  3446.979980  3469.910571    -1.0  \n",
      "2018-02-02  3462.081055  3473.427124    -1.0  \n"
     ]
    },
    {
     "name": "stderr",
     "output_type": "stream",
     "text": [
      "/home/daigua/.pyenv/versions/3.6.7/lib/python3.6/site-packages/ipykernel_launcher.py:2: SettingWithCopyWarning: \n",
      "A value is trying to be set on a copy of a slice from a DataFrame.\n",
      "Try using .loc[row_indexer,col_indexer] = value instead\n",
      "\n",
      "See the caveats in the documentation: https://pandas.pydata.org/pandas-docs/stable/user_guide/indexing.html#returning-a-view-versus-a-copy\n",
      "  \n",
      "/home/daigua/.pyenv/versions/3.6.7/lib/python3.6/site-packages/pandas/core/indexing.py:1765: SettingWithCopyWarning: \n",
      "A value is trying to be set on a copy of a slice from a DataFrame.\n",
      "Try using .loc[row_indexer,col_indexer] = value instead\n",
      "\n",
      "See the caveats in the documentation: https://pandas.pydata.org/pandas-docs/stable/user_guide/indexing.html#returning-a-view-versus-a-copy\n",
      "  isetter(loc, value)\n"
     ]
    }
   ],
   "source": [
    "def foin_looping(df):\n",
    "    df['signal'] = 0\n",
    "    for i in np.arange(0, df.shape[0]):\n",
    "        df.iloc[i, df.columns.get_loc('signal')] = np.sign(df.iloc[i]['Close'] - df.iloc[i]['Ma20'])\n",
    "    return df\n",
    "print(foin_looping(df_stockload[0:5]))"
   ]
  },
  {
   "cell_type": "markdown",
   "metadata": {},
   "source": [
    "### iterrows()生成器方式"
   ]
  },
  {
   "cell_type": "code",
   "execution_count": 22,
   "metadata": {},
   "outputs": [
    {
     "name": "stdout",
     "output_type": "stream",
     "text": [
      "                   High          Low         Open        Close  Volume  \\\n",
      "Date                                                                     \n",
      "2018-01-29  3587.031982  3510.269043  3563.639893  3523.000977  236000   \n",
      "2018-01-30  3523.051025  3484.656006  3511.500977  3488.009033  186400   \n",
      "2018-01-31  3495.452881  3454.726074  3470.509033  3480.833008  207300   \n",
      "2018-02-01  3495.093018  3424.418945  3478.669922  3446.979980  260500   \n",
      "2018-02-02  3463.164062  3388.860107  3419.225098  3462.081055  208100   \n",
      "\n",
      "              Adj Close         Ma20  signal  \n",
      "Date                                          \n",
      "2018-01-29  3523.000977  3454.276660     1.0  \n",
      "2018-01-30  3488.009033  3461.260815     1.0  \n",
      "2018-01-31  3480.833008  3466.847070     1.0  \n",
      "2018-02-01  3446.979980  3469.910571    -1.0  \n",
      "2018-02-02  3462.081055  3473.427124    -1.0  \n"
     ]
    },
    {
     "name": "stderr",
     "output_type": "stream",
     "text": [
      "/home/daigua/.pyenv/versions/3.6.7/lib/python3.6/site-packages/ipykernel_launcher.py:2: SettingWithCopyWarning: \n",
      "A value is trying to be set on a copy of a slice from a DataFrame.\n",
      "Try using .loc[row_indexer,col_indexer] = value instead\n",
      "\n",
      "See the caveats in the documentation: https://pandas.pydata.org/pandas-docs/stable/user_guide/indexing.html#returning-a-view-versus-a-copy\n",
      "  \n",
      "/home/daigua/.pyenv/versions/3.6.7/lib/python3.6/site-packages/pandas/core/indexing.py:1765: SettingWithCopyWarning: \n",
      "A value is trying to be set on a copy of a slice from a DataFrame.\n",
      "Try using .loc[row_indexer,col_indexer] = value instead\n",
      "\n",
      "See the caveats in the documentation: https://pandas.pydata.org/pandas-docs/stable/user_guide/indexing.html#returning-a-view-versus-a-copy\n",
      "  isetter(loc, value)\n"
     ]
    }
   ],
   "source": [
    "def iterrows_loopiter(df):\n",
    "    df['signal'] = 0\n",
    "    for index, row in df.iterrows():\n",
    "        df.loc[index,  'signal'] = np.sign(row['Close']-row['Ma20'])\n",
    "    return df\n",
    "print(iterrows_loopiter(df_stockload[0:5]))"
   ]
  },
  {
   "cell_type": "markdown",
   "metadata": {},
   "source": [
    "### apply()循环方式"
   ]
  },
  {
   "cell_type": "code",
   "execution_count": 23,
   "metadata": {},
   "outputs": [
    {
     "name": "stdout",
     "output_type": "stream",
     "text": [
      "                   High          Low         Open        Close  Volume  \\\n",
      "Date                                                                     \n",
      "2018-01-29  3587.031982  3510.269043  3563.639893  3523.000977  236000   \n",
      "2018-01-30  3523.051025  3484.656006  3511.500977  3488.009033  186400   \n",
      "2018-01-31  3495.452881  3454.726074  3470.509033  3480.833008  207300   \n",
      "2018-02-01  3495.093018  3424.418945  3478.669922  3446.979980  260500   \n",
      "2018-02-02  3463.164062  3388.860107  3419.225098  3462.081055  208100   \n",
      "\n",
      "              Adj Close         Ma20  signal  \n",
      "Date                                          \n",
      "2018-01-29  3523.000977  3454.276660     1.0  \n",
      "2018-01-30  3488.009033  3461.260815     1.0  \n",
      "2018-01-31  3480.833008  3466.847070     1.0  \n",
      "2018-02-01  3446.979980  3469.910571    -1.0  \n",
      "2018-02-02  3462.081055  3473.427124    -1.0  \n"
     ]
    }
   ],
   "source": [
    "df_stockload['signal'] = df_stockload.apply(lambda row: (np.sign(row['Close']-row['Ma20'])), axis = 1)\n",
    "print(df_stockload.head())"
   ]
  },
  {
   "cell_type": "markdown",
   "metadata": {},
   "source": [
    "### 矢量化遍历方式"
   ]
  },
  {
   "cell_type": "code",
   "execution_count": 25,
   "metadata": {},
   "outputs": [
    {
     "name": "stdout",
     "output_type": "stream",
     "text": [
      "                   High          Low         Open        Close  Volume  \\\n",
      "Date                                                                     \n",
      "2018-01-29  3587.031982  3510.269043  3563.639893  3523.000977  236000   \n",
      "2018-01-30  3523.051025  3484.656006  3511.500977  3488.009033  186400   \n",
      "2018-01-31  3495.452881  3454.726074  3470.509033  3480.833008  207300   \n",
      "2018-02-01  3495.093018  3424.418945  3478.669922  3446.979980  260500   \n",
      "2018-02-02  3463.164062  3388.860107  3419.225098  3462.081055  208100   \n",
      "\n",
      "              Adj Close         Ma20  signal  \n",
      "Date                                          \n",
      "2018-01-29  3523.000977  3454.276660     1.0  \n",
      "2018-01-30  3488.009033  3461.260815     1.0  \n",
      "2018-01-31  3480.833008  3466.847070     1.0  \n",
      "2018-02-01  3446.979980  3469.910571    -1.0  \n",
      "2018-02-02  3462.081055  3473.427124    -1.0  \n",
      "                   High          Low         Open        Close  Volume  \\\n",
      "Date                                                                     \n",
      "2018-01-29  3587.031982  3510.269043  3563.639893  3523.000977  236000   \n",
      "2018-01-30  3523.051025  3484.656006  3511.500977  3488.009033  186400   \n",
      "2018-01-31  3495.452881  3454.726074  3470.509033  3480.833008  207300   \n",
      "2018-02-01  3495.093018  3424.418945  3478.669922  3446.979980  260500   \n",
      "2018-02-02  3463.164062  3388.860107  3419.225098  3462.081055  208100   \n",
      "\n",
      "              Adj Close         Ma20  signal  \n",
      "Date                                          \n",
      "2018-01-29  3523.000977  3454.276660     1.0  \n",
      "2018-01-30  3488.009033  3461.260815     1.0  \n",
      "2018-01-31  3480.833008  3466.847070     1.0  \n",
      "2018-02-01  3446.979980  3469.910571    -1.0  \n",
      "2018-02-02  3462.081055  3473.427124    -1.0  \n"
     ]
    }
   ],
   "source": [
    "# series方式\n",
    "df_stockload['signal'] = np.sign(df_stockload[\"Close\"]-df_stockload['Ma20'])\n",
    "print(df_stockload.head())\n",
    "# numpy array方式\n",
    "df_stockload['signal'] = np.sign(df_stockload['Close'].values-df_stockload['Ma20'].values)\n",
    "print(df_stockload.head())"
   ]
  },
  {
   "cell_type": "code",
   "execution_count": null,
   "metadata": {},
   "outputs": [],
   "source": []
  }
 ],
 "metadata": {
  "kernelspec": {
   "display_name": "Python 3",
   "language": "python",
   "name": "python3"
  },
  "language_info": {
   "codemirror_mode": {
    "name": "ipython",
    "version": 3
   },
   "file_extension": ".py",
   "mimetype": "text/x-python",
   "name": "python",
   "nbconvert_exporter": "python",
   "pygments_lexer": "ipython3",
   "version": "3.6.7"
  }
 },
 "nbformat": 4,
 "nbformat_minor": 4
}
