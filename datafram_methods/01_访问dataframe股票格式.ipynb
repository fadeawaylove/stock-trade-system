{
 "cells": [
  {
   "cell_type": "code",
   "execution_count": 1,
   "metadata": {},
   "outputs": [
    {
     "name": "stdout",
     "output_type": "stream",
     "text": [
      "Collecting pandas_datareader\n",
      "\u001b[?25l  Downloading https://files.pythonhosted.org/packages/22/f1/a02eea03628865c3d4c29849cda8c8a73f43358048aee47d79dfbfa6c6c3/pandas_datareader-0.9.0-py3-none-any.whl (107kB)\n",
      "\u001b[K    100% |████████████████████████████████| 112kB 1.3MB/s ta 0:00:01\n",
      "\u001b[?25hRequirement already satisfied: requests>=2.19.0 in /home/daigua/.local/lib/python3.6/site-packages (from pandas_datareader) (2.23.0)\n",
      "Requirement already satisfied: lxml in /home/daigua/.local/lib/python3.6/site-packages (from pandas_datareader) (4.5.1)\n",
      "Requirement already satisfied: pandas>=0.23 in /home/daigua/.pyenv/versions/3.6.7/lib/python3.6/site-packages (from pandas_datareader) (1.1.2)\n",
      "Requirement already satisfied: idna<3,>=2.5 in /home/daigua/.local/lib/python3.6/site-packages (from requests>=2.19.0->pandas_datareader) (2.9)\n",
      "Requirement already satisfied: urllib3!=1.25.0,!=1.25.1,<1.26,>=1.21.1 in /home/daigua/.local/lib/python3.6/site-packages (from requests>=2.19.0->pandas_datareader) (1.25.9)\n",
      "Requirement already satisfied: chardet<4,>=3.0.2 in /home/daigua/.local/lib/python3.6/site-packages (from requests>=2.19.0->pandas_datareader) (3.0.4)\n",
      "Requirement already satisfied: certifi>=2017.4.17 in /home/daigua/.pyenv/versions/3.6.7/lib/python3.6/site-packages (from requests>=2.19.0->pandas_datareader) (2020.6.20)\n",
      "Requirement already satisfied: python-dateutil>=2.7.3 in /home/daigua/.pyenv/versions/3.6.7/lib/python3.6/site-packages (from pandas>=0.23->pandas_datareader) (2.8.1)\n",
      "Requirement already satisfied: pytz>=2017.2 in /home/daigua/.pyenv/versions/3.6.7/lib/python3.6/site-packages (from pandas>=0.23->pandas_datareader) (2020.1)\n",
      "Requirement already satisfied: numpy>=1.15.4 in /home/daigua/.pyenv/versions/3.6.7/lib/python3.6/site-packages (from pandas>=0.23->pandas_datareader) (1.19.2)\n",
      "Requirement already satisfied: six>=1.5 in /home/daigua/.pyenv/versions/3.6.7/lib/python3.6/site-packages (from python-dateutil>=2.7.3->pandas>=0.23->pandas_datareader) (1.15.0)\n",
      "Installing collected packages: pandas-datareader\n",
      "Successfully installed pandas-datareader-0.9.0\n",
      "\u001b[33mYou are using pip version 10.0.1, however version 20.2.4 is available.\n",
      "You should consider upgrading via the 'pip install --upgrade pip' command.\u001b[0m\n"
     ]
    }
   ],
   "source": [
    "# 安装包\n",
    "!pip install pandas_datareader"
   ]
  },
  {
   "cell_type": "code",
   "execution_count": 40,
   "metadata": {},
   "outputs": [],
   "source": [
    "# 导包\n",
    "import datetime\n",
    "import pandas_datareader.data as web\n",
    "import pandas as pd\n",
    "\n",
    "# 获取数据\n",
    "df_stockload = web.DataReader(\"000001.SS\", \"yahoo\", datetime.datetime(2018, 1, 1), datetime.datetime(2018, 2, 1))"
   ]
  },
  {
   "cell_type": "code",
   "execution_count": 9,
   "metadata": {},
   "outputs": [
    {
     "name": "stdout",
     "output_type": "stream",
     "text": [
      "DatetimeIndex(['2018-01-02', '2018-01-03', '2018-01-04', '2018-01-05',\n",
      "               '2018-01-08', '2018-01-09', '2018-01-10', '2018-01-11',\n",
      "               '2018-01-12', '2018-01-15', '2018-01-16', '2018-01-17',\n",
      "               '2018-01-18', '2018-01-19', '2018-01-22', '2018-01-23',\n",
      "               '2018-01-24', '2018-01-25', '2018-01-26', '2018-01-29',\n",
      "               '2018-01-30', '2018-01-31', '2018-02-01'],\n",
      "              dtype='datetime64[ns]', name='Date', freq=None)\n",
      "Index(['High', 'Low', 'Open', 'Close', 'Volume', 'Adj Close'], dtype='object')\n",
      "[DatetimeIndex(['2018-01-02', '2018-01-03', '2018-01-04', '2018-01-05',\n",
      "               '2018-01-08', '2018-01-09', '2018-01-10', '2018-01-11',\n",
      "               '2018-01-12', '2018-01-15', '2018-01-16', '2018-01-17',\n",
      "               '2018-01-18', '2018-01-19', '2018-01-22', '2018-01-23',\n",
      "               '2018-01-24', '2018-01-25', '2018-01-26', '2018-01-29',\n",
      "               '2018-01-30', '2018-01-31', '2018-02-01'],\n",
      "              dtype='datetime64[ns]', name='Date', freq=None), Index(['High', 'Low', 'Open', 'Close', 'Volume', 'Adj Close'], dtype='object')]\n"
     ]
    }
   ],
   "source": [
    "# 查看index，columns，axes\n",
    "print(df_stockload.index)\n",
    "print(df_stockload.columns)\n",
    "print(df_stockload.axes)"
   ]
  },
  {
   "cell_type": "code",
   "execution_count": 17,
   "metadata": {},
   "outputs": [
    {
     "name": "stdout",
     "output_type": "stream",
     "text": [
      "[[  3349.05297852   3314.03100586   3314.03100586   3348.32592773\n",
      "  202300.           3348.32592773]\n",
      " [  3379.91503906   3345.2890625    3347.74291992   3369.10791016\n",
      "  213800.           3369.10791016]\n",
      " [  3392.82592773   3365.29492188   3371.           3385.70996094\n",
      "  207000.           3385.70996094]\n",
      " [  3402.0690918    3380.24511719   3386.46411133   3391.75\n",
      "  213100.           3391.75      ]\n",
      " [  3412.73095703   3384.55908203   3391.55297852   3409.47998047\n",
      "  236200.           3409.47998047]\n",
      " [  3417.22802734   3403.58691406   3406.11206055   3413.89990234\n",
      "  191500.           3413.89990234]\n",
      " [  3430.21411133   3398.84204102   3414.11303711   3421.83398438\n",
      "  209100.           3421.83398438]\n",
      " [  3426.48291016   3405.63891602   3415.58496094   3425.3449707\n",
      "  173800.           3425.3449707 ]\n",
      " [  3435.42407227   3417.97998047   3423.87890625   3428.94091797\n",
      "  174100.           3428.94091797]\n",
      " [  3442.50097656   3402.31201172   3428.95092773   3410.48803711\n",
      "  232000.           3410.48803711]\n",
      " [  3437.58300781   3401.9609375    3403.46899414   3436.59399414\n",
      "  211500.           3436.59399414]\n",
      " [  3465.20507812   3430.51098633   3438.57592773   3444.67089844\n",
      "  261000.           3444.67089844]\n",
      " [  3476.54589844   3448.7890625    3449.88110352   3474.75390625\n",
      "  220000.           3474.75390625]\n",
      " [  3498.43408203   3474.29199219   3481.62011719   3487.86401367\n",
      "  247500.           3487.86401367]\n",
      " [  3503.38598633   3475.6730957    3476.99389648   3501.36206055\n",
      "  217500.           3501.36206055]\n",
      " [  3547.22192383   3504.34399414   3504.34399414   3546.50488281\n",
      "  238700.           3546.50488281]\n",
      " [  3569.48901367   3527.11206055   3553.47900391   3559.46508789\n",
      "  253000.           3559.46508789]\n",
      " [  3571.48095703   3528.03491211   3555.16796875   3548.30688477\n",
      "  243400.           3548.30688477]\n",
      " [  3574.9050293    3534.19506836   3535.49291992   3558.12890625\n",
      "  222700.           3558.12890625]\n",
      " [  3587.03198242   3510.26904297   3563.63989258   3523.00097656\n",
      "  236000.           3523.00097656]\n",
      " [  3523.05102539   3484.65600586   3511.50097656   3488.0090332\n",
      "  186400.           3488.0090332 ]\n",
      " [  3495.45288086   3454.72607422   3470.5090332    3480.83300781\n",
      "  207300.           3480.83300781]\n",
      " [  3495.09301758   3424.41894531   3478.66992188   3446.97998047\n",
      "  260500.           3446.97998047]]\n",
      "<class 'numpy.ndarray'>\n"
     ]
    }
   ],
   "source": [
    "# 查看df的值\n",
    "print(df_stockload.values)\n",
    "print(type(df_stockload.values))  # <class 'numpy.ndarray'>"
   ]
  },
  {
   "cell_type": "code",
   "execution_count": 19,
   "metadata": {},
   "outputs": [
    {
     "name": "stdout",
     "output_type": "stream",
     "text": [
      "Date\n",
      "2018-01-02    3314.031006\n",
      "2018-01-03    3347.742920\n",
      "2018-01-04    3371.000000\n",
      "2018-01-05    3386.464111\n",
      "2018-01-08    3391.552979\n",
      "2018-01-09    3406.112061\n",
      "2018-01-10    3414.113037\n",
      "2018-01-11    3415.584961\n",
      "2018-01-12    3423.878906\n",
      "2018-01-15    3428.950928\n",
      "2018-01-16    3403.468994\n",
      "2018-01-17    3438.575928\n",
      "2018-01-18    3449.881104\n",
      "2018-01-19    3481.620117\n",
      "2018-01-22    3476.993896\n",
      "2018-01-23    3504.343994\n",
      "2018-01-24    3553.479004\n",
      "2018-01-25    3555.167969\n",
      "2018-01-26    3535.492920\n",
      "2018-01-29    3563.639893\n",
      "2018-01-30    3511.500977\n",
      "2018-01-31    3470.509033\n",
      "2018-02-01    3478.669922\n",
      "Name: Open, dtype: float64\n",
      "<class 'pandas.core.series.Series'>\n"
     ]
    }
   ],
   "source": [
    "# 查看某一列\n",
    "print(df_stockload['Open'])\n",
    "print(type(df_stockload['Open']))  # <class 'pandas.core.series.Series'>"
   ]
  },
  {
   "cell_type": "code",
   "execution_count": 22,
   "metadata": {},
   "outputs": [
    {
     "name": "stdout",
     "output_type": "stream",
     "text": [
      "                   High          Low         Open        Close  Volume  \\\n",
      "Date                                                                     \n",
      "2018-01-02  3349.052979  3314.031006  3314.031006  3348.325928  202300   \n",
      "\n",
      "              Adj Close  \n",
      "Date                     \n",
      "2018-01-02  3348.325928  \n",
      "<class 'pandas.core.frame.DataFrame'>\n"
     ]
    }
   ],
   "source": [
    "# 切片查询某些行\n",
    "print(df_stockload[0:1])\n",
    "print(type(df_stockload[0:1]))  # <class 'pandas.core.frame.DataFrame'>"
   ]
  },
  {
   "cell_type": "code",
   "execution_count": 26,
   "metadata": {},
   "outputs": [
    {
     "name": "stdout",
     "output_type": "stream",
     "text": [
      "High           3349.052979\n",
      "Low            3314.031006\n",
      "Open           3314.031006\n",
      "Close          3348.325928\n",
      "Volume       202300.000000\n",
      "Adj Close      3348.325928\n",
      "Name: 2018-01-02 00:00:00, dtype: float64\n",
      "<class 'pandas.core.series.Series'>\n",
      "Open    3314.031006\n",
      "High    3349.052979\n",
      "Name: 2018-01-02 00:00:00, dtype: float64\n",
      "<class 'pandas.core.series.Series'>\n"
     ]
    }
   ],
   "source": [
    "# loc根据index以及columns的名称锁定范围\n",
    "print(df_stockload.loc[\"2018-01-02\"])\n",
    "print(type(df_stockload.loc[\"2018-01-02\"]))  # <class 'pandas.core.series.Series'>\n",
    "print(df_stockload.loc[\"2018-01-02\", ['Open', 'High']])\n",
    "print(type(df_stockload.loc[\"2018-01-02\", ['Open', 'High']]))  # <class 'pandas.core.series.Series'>"
   ]
  },
  {
   "cell_type": "code",
   "execution_count": 34,
   "metadata": {},
   "outputs": [
    {
     "name": "stdout",
     "output_type": "stream",
     "text": [
      "                   High          Low         Open        Close  Volume  \\\n",
      "Date                                                                     \n",
      "2018-01-02  3349.052979  3314.031006  3314.031006  3348.325928  202300   \n",
      "2018-01-03  3379.915039  3345.289062  3347.742920  3369.107910  213800   \n",
      "\n",
      "              Adj Close  \n",
      "Date                     \n",
      "2018-01-02  3348.325928  \n",
      "2018-01-03  3369.107910  \n",
      "                   High          Low         Open        Close\n",
      "Date                                                          \n",
      "2018-01-02  3349.052979  3314.031006  3314.031006  3348.325928\n",
      "2018-01-03  3379.915039  3345.289062  3347.742920  3369.107910\n",
      "                   Open       Close  Volume\n",
      "Date                                       \n",
      "2018-01-03  3347.742920  3369.10791  213800\n",
      "2018-01-05  3386.464111  3391.75000  213100\n",
      "2018-01-08  3391.552979  3409.47998  236200\n"
     ]
    }
   ],
   "source": [
    "# iloc根据行下标以及列下标来锁定范围\n",
    "print(df_stockload.iloc[0:2])  # 下标为0和1的行\n",
    "print(df_stockload.iloc[0:2, 0:4])  # 下标为0和1的行，以及下标为0到3的列\n",
    "print(df_stockload.iloc[[1,3,4], [2,3,4]])  # 下标为1，3，4的行，以及下标为2，3，4的列"
   ]
  },
  {
   "cell_type": "code",
   "execution_count": 42,
   "metadata": {},
   "outputs": [],
   "source": [
    "# ix灵活锁定（弃用），运行会报错  'DataFrame' object has no attribute 'ix'\n",
    "# print(df_stockload.ix[[0,2], ['Open', 'Close']])"
   ]
  },
  {
   "cell_type": "code",
   "execution_count": 43,
   "metadata": {},
   "outputs": [
    {
     "name": "stdout",
     "output_type": "stream",
     "text": [
      "Date\n",
      "2018-01-02    3314.031006\n",
      "2018-01-04    3371.000000\n",
      "Name: Open, dtype: float64\n",
      "                   Open        Close\n",
      "Date                                \n",
      "2018-01-02  3314.031006  3348.325928\n",
      "2018-01-04  3371.000000  3385.709961\n",
      "                   High         Open\n",
      "Date                                \n",
      "2018-01-02  3349.052979  3314.031006\n",
      "2018-01-04  3392.825928  3371.000000\n"
     ]
    }
   ],
   "source": [
    "# 转化使用loc和iloc\n",
    "print(df_stockload.iloc[[0,2], df_stockload.columns.get_loc('Open')])\n",
    "print(df_stockload.iloc[[0,2], df_stockload.columns.get_indexer(['Open','Close'])])\n",
    "\n",
    "print(df_stockload.loc[[pd.to_datetime('2018-01-02'),pd.to_datetime('2018-01-04')], ['High', 'Open']])"
   ]
  },
  {
   "cell_type": "code",
   "execution_count": null,
   "metadata": {},
   "outputs": [],
   "source": []
  }
 ],
 "metadata": {
  "kernelspec": {
   "display_name": "Python 3",
   "language": "python",
   "name": "python3"
  },
  "language_info": {
   "codemirror_mode": {
    "name": "ipython",
    "version": 3
   },
   "file_extension": ".py",
   "mimetype": "text/x-python",
   "name": "python",
   "nbconvert_exporter": "python",
   "pygments_lexer": "ipython3",
   "version": "3.6.7"
  }
 },
 "nbformat": 4,
 "nbformat_minor": 4
}
