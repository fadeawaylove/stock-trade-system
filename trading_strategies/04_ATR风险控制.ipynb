{
 "cells": [
  {
   "cell_type": "code",
   "execution_count": 2,
   "metadata": {
    "collapsed": true
   },
   "outputs": [],
   "source": [
    "import talib\n",
    "import matplotlib.pyplot as plt\n",
    "import pandas as pd\n",
    "import numpy as np\n",
    "import  pandas_datareader.data as web\n",
    "import datetime"
   ]
  },
  {
   "cell_type": "code",
   "execution_count": 7,
   "outputs": [],
   "source": [
    "df_stockload = web.DataReader(\"600410.SS\", \"yahoo\", datetime.datetime(2018,10,1), datetime.datetime(2019,4,1))\n",
    "df_stockload['atr14'] = talib.ATR(df_stockload.High.values, df_stockload.Low.values, df_stockload.Close.values, timeperiod=14)\n",
    "df_stockload['atr20'] = talib.ATR(df_stockload.High.values, df_stockload.Low.values, df_stockload.Close.values, timeperiod=20)\n"
   ],
   "metadata": {
    "collapsed": false,
    "pycharm": {
     "name": "#%%\n"
    }
   }
  },
  {
   "cell_type": "code",
   "execution_count": 11,
   "outputs": [
    {
     "data": {
      "text/plain": "<Figure size 432x288 with 1 Axes>",
      "image/png": "[encoded data removed]"
     },
     "metadata": {
      "needs_background": "light"
     },
     "output_type": "display_data"
    }
   ],
   "source": [
    "plt.plot(df_stockload.index,df_stockload[\"atr14\"])\n",
    "plt.plot(df_stockload.index,df_stockload[\"atr20\"])\n",
    "plt.legend([\"atr14\", \"atr20\"], loc=\"best\")\n",
    "\n",
    "plt.show()"
   ],
   "metadata": {
    "collapsed": false,
    "pycharm": {
     "name": "#%%\n"
    }
   }
  },
  {
   "cell_type": "code",
   "execution_count": 12,
   "outputs": [],
   "source": [
    "#股票数据获取及处理接口\n",
    "def GetStockDatApi(stockName=None,stockTimeS=None,stockTimeE=None, N1=15, N2=5, n_loss=0.8, n_win=2):\n",
    "\n",
    "    stockdata = web.DataReader(stockName, \"yahoo\", stockTimeS, stockTimeE)\n",
    "\n",
    "    stockdata['N1_High'] = stockdata.High.rolling(window=N1).max()#计算最近N1个交易日最高价\n",
    "    stockdata['N1_High'] = stockdata.N1_High.shift(1)\n",
    "    expan_max = stockdata.Close.expanding().max()\n",
    "    stockdata['N1_High'].fillna(value=expan_max,inplace=True)#目前出现过的最大值填充前N1个nan\n",
    "\n",
    "    stockdata['N2_Low'] = stockdata.Low.rolling(window=N2).min()#计算最近N2个交易日最低价\n",
    "    stockdata['N2_Low'] = stockdata.N2_Low.shift(1)\n",
    "    expan_min = stockdata.Close.expanding().min()\n",
    "    stockdata['N2_Low'].fillna(value=expan_min,inplace=True)#目前出现过的最小值填充前N2个nan\n",
    "\n",
    "    stockdata['atr14'] = talib.ATR(stockdata.High.values, stockdata.Low.values, stockdata.Close.values, timeperiod=14)  # 计算ATR14\n",
    "    buy_price = 0\n",
    "    for kl_index, today in stockdata.iterrows():\n",
    "        if today.Close > today.N1_High:\n",
    "            print('N_day_buy', kl_index, today.Close)\n",
    "            buy_price = today.Close\n",
    "            stockdata.loc[kl_index, 'signal'] = 1\n",
    "        #到达收盘价少于买入价后触发卖出\n",
    "        elif (buy_price != 0) and (buy_price > today.Close) and ((buy_price - today.Close) > n_loss * today.atr14):\n",
    "            print('stop_loss_n', kl_index, today.Close, buy_price)\n",
    "            stockdata.loc[kl_index, 'signal'] = 0\n",
    "            buy_price = 0\n",
    "        #到达收盘价多于买入价后触发卖出\n",
    "        elif (buy_price != 0) and (buy_price < today.Close) and ((today.Close - buy_price) > n_win * today.atr14):\n",
    "            print('stop_win_n', kl_index, today.Close, buy_price)\n",
    "            stockdata.loc[kl_index, 'signal'] = 0\n",
    "            buy_price = 0\n",
    "        elif today.Close < today.N2_Low:\n",
    "            print('N_day_sell', kl_index, today.Close, buy_price)\n",
    "            stockdata.loc[kl_index, 'signal'] = 0\n",
    "            buy_price = 0\n",
    "        else:\n",
    "            pass\n",
    "\n",
    "    stockdata['signal'].fillna(method = 'ffill',inplace = True)\n",
    "    stockdata['signal'] = stockdata.signal.shift(1)\n",
    "    stockdata['signal'].fillna(method = 'bfill',inplace = True)\n",
    "\n",
    "    return stockdata"
   ],
   "metadata": {
    "collapsed": false,
    "pycharm": {
     "name": "#%%\n"
    }
   }
  },
  {
   "cell_type": "code",
   "execution_count": null,
   "outputs": [],
   "source": [
    "\n"
   ],
   "metadata": {
    "collapsed": false,
    "pycharm": {
     "name": "#%%\n"
    }
   }
  }
 ],
 "metadata": {
  "kernelspec": {
   "display_name": "Python 3",
   "language": "python",
   "name": "python3"
  },
  "language_info": {
   "codemirror_mode": {
    "name": "ipython",
    "version": 2
   },
   "file_extension": ".py",
   "mimetype": "text/x-python",
   "name": "python",
   "nbconvert_exporter": "python",
   "pygments_lexer": "ipython2",
   "version": "2.7.6"
  }
 },
 "nbformat": 4,
 "nbformat_minor": 0
}